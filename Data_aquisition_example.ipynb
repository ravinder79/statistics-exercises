{
 "cells": [
  {
   "cell_type": "code",
   "execution_count": 2,
   "metadata": {},
   "outputs": [],
   "source": [
    "import pandas as pd\n",
    "import numpy as np\n",
    "import seaborn as sns\n",
    "import matplotlib.pyplot as plt\n",
    "from pydataset import data\n",
    "from scipy import stats\n"
   ]
  },
  {
   "cell_type": "markdown",
   "metadata": {},
   "source": [
    "Plan\\\n",
    "Acquire the raw information from the telco_churn database\\\n",
    "Prepare the data for analysis. Double check for missing values and incorrect data types.\\\n",
    "Explore (checking for correlated and non-correlated attributes is a critical part of this step)"
   ]
  },
  {
   "cell_type": "code",
   "execution_count": null,
   "metadata": {},
   "outputs": [],
   "source": [
    "sql = \"\"\"select * from customers\n",
    "join internet_service_types using(internet_service_type_id)\"\"\""
   ]
  },
  {
   "cell_type": "code",
   "execution_count": null,
   "metadata": {},
   "outputs": [],
   "source": [
    "url = get_url(\"telco_churn\")\n",
    "telco = pd.read_sql(sql, url)\n",
    "telco.head()"
   ]
  },
  {
   "cell_type": "code",
   "execution_count": null,
   "metadata": {},
   "outputs": [],
   "source": [
    "# Check for nulls in the columns of interest\n",
    "assert telco.total_charges.isna().sum() == 0, \"There are missing values in this column. Handle them before proceeding\"\n",
    "assert telco.monthly_charges.isna().sum() == 0, \"There are missing values in this column. Handle them before proceeding\"\n",
    "assert telco.tenure.isna().sum() == 0, \"There are missing values in this column. Handle them before proceeding\""
   ]
  },
  {
   "cell_type": "code",
   "execution_count": null,
   "metadata": {},
   "outputs": [],
   "source": [
    "# Check the datatypes for the columns of interest\n",
    "telco[[\"tenure\", \"monthly_charges\", \"total_charges\"]].dtypes"
   ]
  },
  {
   "cell_type": "code",
   "execution_count": null,
   "metadata": {},
   "outputs": [],
   "source": [
    "# Let's see what's happening with the total_charges column...\n",
    "telco.total_charges.value_counts()"
   ]
  },
  {
   "cell_type": "code",
   "execution_count": null,
   "metadata": {},
   "outputs": [],
   "source": [
    "# Make any string with multiple spaces into an empty space value\n",
    "telco.total_charges = telco.total_charges.str.strip()\n",
    "\n",
    "# Count the number of empty string entries\n",
    "telco[telco.total_charges == \"\"]"
   ]
  },
  {
   "cell_type": "code",
   "execution_count": null,
   "metadata": {},
   "outputs": [],
   "source": [
    "\n",
    "# remove those 11 rows\n",
    "telco = telco[telco.total_charges != \"\"]\n",
    "\n",
    "# set the total_charges column to be a float\n",
    "telco.total_charges = telco.total_charges.astype(float)"
   ]
  },
  {
   "cell_type": "code",
   "execution_count": null,
   "metadata": {},
   "outputs": [],
   "source": [
    "telco[[\"total_charges\", \"monthly_charges\", \"tenure\"]].dtypes"
   ]
  }
 ],
 "metadata": {
  "kernelspec": {
   "display_name": "Python 3",
   "language": "python",
   "name": "python3"
  },
  "language_info": {
   "codemirror_mode": {
    "name": "ipython",
    "version": 3
   },
   "file_extension": ".py",
   "mimetype": "text/x-python",
   "name": "python",
   "nbconvert_exporter": "python",
   "pygments_lexer": "ipython3",
   "version": "3.7.4"
  }
 },
 "nbformat": 4,
 "nbformat_minor": 2
}

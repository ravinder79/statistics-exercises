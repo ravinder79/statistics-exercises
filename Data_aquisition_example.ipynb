{
 "cells": [
  {
   "cell_type": "code",
   "execution_count": 2,
   "metadata": {},
   "outputs": [],
   "source": [
    "import pandas as pd\n",
    "import numpy as np\n",
    "import seaborn as sns\n",
    "import matplotlib.pyplot as plt\n",
    "from pydataset import data\n",
    "from scipy import stats\n"
   ]
  },
  {
   "cell_type": "markdown",
   "metadata": {},
   "source": [
    "Plan\\\n",
    "Acquire the raw information from the telco_churn database\\\n",
    "Prepare the data for analysis. Double check for missing values and incorrect data types.\\\n",
    "Explore (checking for correlated and non-correlated attributes is a critical part of this step)"
   ]
  },
  {
   "cell_type": "code",
   "execution_count": null,
   "metadata": {},
   "outputs": [],
   "source": [
    "sql = \"\"\"select * from customers\n",
    "join internet_service_types using(internet_service_type_id)\"\"\""
   ]
  },
  {
   "cell_type": "code",
   "execution_count": null,
   "metadata": {},
   "outputs": [],
   "source": [
    "url = get_url(\"telco_churn\")\n",
    "telco = pd.read_sql(sql, url)\n",
    "telco.head()"
   ]
  },
  {
   "cell_type": "code",
   "execution_count": null,
   "metadata": {},
   "outputs": [],
   "source": [
    "# Check for nulls in the columns of interest\n",
    "assert telco.total_charges.isna().sum() == 0, \"There are missing values in this column. Handle them before proceeding\"\n",
    "assert telco.monthly_charges.isna().sum() == 0, \"There are missing values in this column. Handle them before proceeding\"\n",
    "assert telco.tenure.isna().sum() == 0, \"There are missing values in this column. Handle them before proceeding\""
   ]
  },
  {
   "cell_type": "code",
   "execution_count": null,
   "metadata": {},
   "outputs": [],
   "source": [
    "# Check the datatypes for the columns of interest\n",
    "telco[[\"tenure\", \"monthly_charges\", \"total_charges\"]].dtypes"
   ]
  },
  {
   "cell_type": "code",
   "execution_count": null,
   "metadata": {},
   "outputs": [],
   "source": []
  },
  {
   "cell_type": "code",
   "execution_count": null,
   "metadata": {},
   "outputs": [],
   "source": []
  }
 ],
 "metadata": {
  "kernelspec": {
   "display_name": "Python 3",
   "language": "python",
   "name": "python3"
  },
  "language_info": {
   "codemirror_mode": {
    "name": "ipython",
    "version": 3
   },
   "file_extension": ".py",
   "mimetype": "text/x-python",
   "name": "python",
   "nbconvert_exporter": "python",
   "pygments_lexer": "ipython3",
   "version": "3.7.4"
  }
 },
 "nbformat": 4,
 "nbformat_minor": 2
}

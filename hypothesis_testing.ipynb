{
 "cells": [
  {
   "cell_type": "markdown",
   "metadata": {},
   "source": [
    "For each of the following questions, formulate a null and alternative hypothesis (be as specific as you can be), then give an example of what a true positive, true negative, type I and type II errors would look like. Note that some of the questions are intentionally phrased in a vague way. It is your job to reword these as more precise questions that could be tested."
   ]
  },
  {
   "cell_type": "markdown",
   "metadata": {},
   "source": [
    "Has the network latency gone up since we switched internet service providers?"
   ]
  },
  {
   "cell_type": "markdown",
   "metadata": {},
   "source": [
    "$H_0$: Network latency is same before and after switching to ISP\\\n",
    "$H_a$: Network latency has gone up after switching to ISP"
   ]
  },
  {
   "cell_type": "markdown",
   "metadata": {},
   "source": [
    "- True Positive:\n",
    "    - low p value\n",
    "    - reject $H_0$\n",
    "    - Network latency before the switch 0.5 ms\n",
    "    - Network latency after the switch 2 ms\n",
    " \n",
    " \n",
    "- False Positive:\n",
    "    - low p value\n",
    "    - reject $H_0$\n",
    "    - significantly higher latency time after switch\n",
    "    - Testing before and after was done with different hardware and different time of day\n",
    "\n",
    "- True Negative:\n",
    "    - higher p value\n",
    "    - accept $H_0$\n",
    "    - Network latency before the switch 2 ms\n",
    "    - Network latency after the switch 0.5 ms\n",
    "     \n",
    "- False Negative\n",
    "    - higher p value\n",
    "    - accept $H_0$\n",
    "    - network latency has not changed much\n",
    "    - two tests (before and after) have other variables which affect latency measurement"
   ]
  },
  {
   "cell_type": "markdown",
   "metadata": {},
   "source": [
    "Is the website redesign any good?"
   ]
  },
  {
   "cell_type": "markdown",
   "metadata": {},
   "source": [
    "$H_0$: The website redesign does not result in increased customer satisfaction\\\n",
    "$H_a$: The website redesign results in increased customer satisfaction"
   ]
  },
  {
   "cell_type": "markdown",
   "metadata": {},
   "source": [
    "- True Positive:\n",
    "    - low p value\n",
    "    - reject  $H_0$\n",
    "    - the customer satisfaction rating before website redesign 6/10\n",
    "    - the customer satisfaction rating after website redsign 9/10\n",
    "\n",
    "- False Positive: \n",
    "    - low p value\n",
    "    - reject  $H_0$\n",
    "    - The customer satisfaction rating increased after website redesign\n",
    "    - The rating questionnaire changed before and after website redesign\n",
    "    \n",
    "- False Negative:\n",
    "    - high p value\n",
    "    - accept $H_0$\n",
    "    - survey shows customer satisfaction rating has not changed\n",
    "    - survey had differenr scales/questions before and after the redesign\n",
    "- True Negative:\n",
    "    - higher p value\n",
    "    - accept $H_0$\n",
    "    - survey shows customer satisfaction rating has not changed\n",
    "    - the customer satisfaction rating before website redesign 7.5/10\n",
    "    - the customer satisfaction rating after website redsign 7/10"
   ]
  },
  {
   "cell_type": "markdown",
   "metadata": {},
   "source": [
    "Is our television ad driving more sales?"
   ]
  },
  {
   "cell_type": "markdown",
   "metadata": {},
   "source": [
    "$H_0$: TV ad does not drive more sales\\\n",
    "$H_a$: TV ad does drive more sales"
   ]
  },
  {
   "cell_type": "markdown",
   "metadata": {},
   "source": [
    "- True Positive:\n",
    "    - low p value\n",
    "    - reject  $H_0$\n",
    "    - sales before TV ads is 1 million\n",
    "    - sales after TV ads is 2.2 million\n",
    "\n",
    "- False Positive: \n",
    "    - low p value\n",
    "    - reject  $H_0$\n",
    "    - sales increased after TV ads\n",
    "    - New products were introduced along with TV ads\n",
    "    \n",
    "- False Negative:\n",
    "    - high p value\n",
    "    - accept $H_0$\n",
    "    - sales did not change after TV ads\n",
    "    - Economy is in recession resulting in lower demand\n",
    "    \n",
    "- True Negative:\n",
    "    - higher p value\n",
    "    - accept $H_0$\n",
    "    - sales before TV ads is 1 million\n",
    "    - sales after TV ads is 0.9 million"
   ]
  },
  {
   "cell_type": "code",
   "execution_count": null,
   "metadata": {},
   "outputs": [],
   "source": []
  }
 ],
 "metadata": {
  "kernelspec": {
   "display_name": "Python 3",
   "language": "python",
   "name": "python3"
  },
  "language_info": {
   "codemirror_mode": {
    "name": "ipython",
    "version": 3
   },
   "file_extension": ".py",
   "mimetype": "text/x-python",
   "name": "python",
   "nbconvert_exporter": "python",
   "pygments_lexer": "ipython3",
   "version": "3.7.4"
  }
 },
 "nbformat": 4,
 "nbformat_minor": 2
}

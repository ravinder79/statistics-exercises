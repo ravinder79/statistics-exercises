{
 "cells": [
  {
   "cell_type": "markdown",
   "metadata": {},
   "source": [
    "For each of the following questions, formulate a null and alternative hypothesis (be as specific as you can be), then give an example of what a true positive, true negative, type I and type II errors would look like. Note that some of the questions are intentionally phrased in a vague way. It is your job to reword these as more precise questions that could be tested."
   ]
  },
  {
   "cell_type": "markdown",
   "metadata": {},
   "source": [
    "Has the network latency gone up since we switched internet service providers?"
   ]
  },
  {
   "cell_type": "markdown",
   "metadata": {},
   "source": [
    "$H_0$: Network latency is same before and after switching to ISP\\\n",
    "$H_a$: Network latency has gone up after switching to ISP"
   ]
  },
  {
   "cell_type": "markdown",
   "metadata": {},
   "source": [
    "- True Positive:\n",
    "    - low p value\n",
    "    - reject $H_0$\n",
    "    - Network latency before the switch 0.5 ms\n",
    "    - Network latency after the switch 2 ms\n",
    " \n",
    " \n",
    "- False Positive:\n",
    "    - low p value\n",
    "    - reject $H_0$\n",
    "    - significantly higher latency time after switch\n",
    "    - Testing before and after was done with different hardware and different time of day\n",
    "\n",
    "- True Negative:\n",
    "    - higher p value\n",
    "    - accept $H_0$\n",
    "    - Network latency before the switch 2 ms\n",
    "    - Network latency after the switch 0.5 ms\n",
    "     \n",
    "- False Negative\n",
    "    - higher p value\n",
    "    - accept $H_0$\n",
    "    - network latency has not changed much\n",
    "    - two tests (before and after) have other variables which affect latency measurement"
   ]
  },
  {
   "cell_type": "markdown",
   "metadata": {},
   "source": [
    "Is the website redesign any good?"
   ]
  },
  {
   "cell_type": "markdown",
   "metadata": {},
   "source": [
    "$H_0$: The website redesign does not result in increased customer satisfaction\\\n",
    "$H_a$: The website redesign results in increased customer satisfaction"
   ]
  },
  {
   "cell_type": "markdown",
   "metadata": {},
   "source": [
    "- True Positive:\n",
    "    - low p value\n",
    "    - reject  $H_0$\n",
    "    - the customer satisfaction rating before website redesign 6/10\n",
    "    - the customer satisfaction rating after website redsign 9/10\n",
    "\n",
    "- False Positive: \n",
    "    - low p value\n",
    "    - reject  $H_0$\n",
    "    - The customer satisfaction rating increased after website redesign\n",
    "    - The rating questionnaire changed before and after website redesign\n",
    "    \n",
    "- False Negative:\n",
    "    - high p value\n",
    "    - accept $H_0$\n",
    "    - survey shows customer satisfaction rating has not changed\n",
    "    - survey had differenr scales/questions before and after the redesign\n",
    "- True Negative:\n",
    "    - higher p value\n",
    "    - accept $H_0$\n",
    "    - survey shows customer satisfaction rating has not changed\n",
    "    - the customer satisfaction rating before website redesign 7.5/10\n",
    "    - the customer satisfaction rating after website redsign 7/10"
   ]
  },
  {
   "cell_type": "markdown",
   "metadata": {},
   "source": [
    "Is our television ad driving more sales?"
   ]
  },
  {
   "cell_type": "markdown",
   "metadata": {},
   "source": [
    "$H_0$: TV ad does not drive more sales\\\n",
    "$H_a$: TV ad does drive more sales"
   ]
  },
  {
   "cell_type": "markdown",
   "metadata": {},
   "source": [
    "- True Positive:\n",
    "    - low p value\n",
    "    - reject  $H_0$\n",
    "    - average monthly sales before TV ads is 1 million\n",
    "    - average monthly sales after TV ads is 2.2 million\n",
    "\n",
    "- False Positive: \n",
    "    - low p value\n",
    "    - reject  $H_0$\n",
    "    - sales increased after TV ads\n",
    "    - New products were introduced along with TV ads\n",
    "    \n",
    "- False Negative:\n",
    "    - high p value\n",
    "    - accept $H_0$\n",
    "    - sales did not change after TV ads\n",
    "    - Economy is in recession resulting in lower demand\n",
    "    \n",
    "- True Negative:\n",
    "    - higher p value\n",
    "    - accept $H_0$\n",
    "    - sales before TV ads is 1 million\n",
    "    - sales after TV ads is 0.9 million"
   ]
  },
  {
   "cell_type": "markdown",
   "metadata": {},
   "source": [
    "# t-test exercise\n"
   ]
  },
  {
   "cell_type": "markdown",
   "metadata": {},
   "source": [
    "Ace Realty wants to determine whether the average time it takes to sell homes is different for its two offices. A sample of 40 sales from office #1 revealed a mean of 90 days and a standard deviation of 15 days. A sample of 50 sales from office #2 revealed a mean of 100 days and a standard deviation of 20 days. Use a .05 level of significance."
   ]
  },
  {
   "cell_type": "code",
   "execution_count": 8,
   "metadata": {},
   "outputs": [],
   "source": [
    "\n",
    "from math import sqrt\n",
    "\n",
    "%matplotlib inline\n",
    "import matplotlib.pyplot as plt\n",
    "import seaborn as sns\n",
    "import pandas as pd\n",
    "\n",
    "from scipy import stats\n",
    "from pydataset import data"
   ]
  },
  {
   "cell_type": "markdown",
   "metadata": {},
   "source": [
    "$H_0$: average time to sell homes for its two offices is same\\\n",
    "$H_a$ average time to sell homes for its two offices is different"
   ]
  },
  {
   "cell_type": "code",
   "execution_count": 2,
   "metadata": {},
   "outputs": [],
   "source": [
    "alpha = 0.05\n",
    "\n",
    "xbar1 = 90\n",
    "xbar2 = 100\n",
    "\n",
    "n1 = 40\n",
    "n2 = 50\n",
    "\n",
    "s1 = 15\n",
    "s2 = 20\n",
    "\n",
    "degf = (n1 + n2) - 2 # n - number of categories\n",
    "\n",
    "s_p = sqrt(\n",
    "    ((n1 - 1) * s1**2 + (n2 - 1) * s2**2)\n",
    "    /\n",
    "    (n1 + n2 - 2)\n",
    ")\n",
    "\n",
    "t = (xbar1 - xbar2) / (s_p * sqrt(1 / n1 + 1 / n2))"
   ]
  },
  {
   "cell_type": "code",
   "execution_count": 3,
   "metadata": {},
   "outputs": [
    {
     "data": {
      "text/plain": [
       "-2.6252287036468456"
      ]
     },
     "execution_count": 3,
     "metadata": {},
     "output_type": "execute_result"
    }
   ],
   "source": [
    "t"
   ]
  },
  {
   "cell_type": "code",
   "execution_count": 5,
   "metadata": {},
   "outputs": [
    {
     "data": {
      "text/plain": [
       "1.9897901475507607"
      ]
     },
     "execution_count": 5,
     "metadata": {},
     "output_type": "execute_result"
    }
   ],
   "source": [
    "p = stats.t(degf).sf(t) * 2\n",
    "p"
   ]
  },
  {
   "cell_type": "markdown",
   "metadata": {},
   "source": [
    "Since p value is great than 0.05, we do not reject the null hypothesis meaning there is no difference in average time to seel for two offices"
   ]
  },
  {
   "cell_type": "markdown",
   "metadata": {},
   "source": [
    "# Load the mpg dataset and use it to answer the following questions:\n",
    "\n",
    "Is there a difference in fuel-efficiency in cars from 2008 vs 1999?\n",
    "Are compact cars more fuel-efficient than the average car?\n",
    "Do manual cars get better gas mileage than automatic cars?"
   ]
  },
  {
   "cell_type": "code",
   "execution_count": 9,
   "metadata": {},
   "outputs": [],
   "source": [
    "mpg = data('mpg')\n"
   ]
  },
  {
   "cell_type": "code",
   "execution_count": 28,
   "metadata": {},
   "outputs": [
    {
     "data": {
      "text/html": [
       "<div>\n",
       "<style scoped>\n",
       "    .dataframe tbody tr th:only-of-type {\n",
       "        vertical-align: middle;\n",
       "    }\n",
       "\n",
       "    .dataframe tbody tr th {\n",
       "        vertical-align: top;\n",
       "    }\n",
       "\n",
       "    .dataframe thead th {\n",
       "        text-align: right;\n",
       "    }\n",
       "</style>\n",
       "<table border=\"1\" class=\"dataframe\">\n",
       "  <thead>\n",
       "    <tr style=\"text-align: right;\">\n",
       "      <th></th>\n",
       "      <th>manufacturer</th>\n",
       "      <th>model</th>\n",
       "      <th>displ</th>\n",
       "      <th>year</th>\n",
       "      <th>cyl</th>\n",
       "      <th>trans</th>\n",
       "      <th>drv</th>\n",
       "      <th>cty</th>\n",
       "      <th>hwy</th>\n",
       "      <th>fl</th>\n",
       "      <th>class</th>\n",
       "      <th>average_mpg</th>\n",
       "    </tr>\n",
       "  </thead>\n",
       "  <tbody>\n",
       "    <tr>\n",
       "      <td>1</td>\n",
       "      <td>audi</td>\n",
       "      <td>a4</td>\n",
       "      <td>1.8</td>\n",
       "      <td>1999</td>\n",
       "      <td>4</td>\n",
       "      <td>auto(l5)</td>\n",
       "      <td>f</td>\n",
       "      <td>18</td>\n",
       "      <td>29</td>\n",
       "      <td>p</td>\n",
       "      <td>compact</td>\n",
       "      <td>23.5</td>\n",
       "    </tr>\n",
       "    <tr>\n",
       "      <td>2</td>\n",
       "      <td>audi</td>\n",
       "      <td>a4</td>\n",
       "      <td>1.8</td>\n",
       "      <td>1999</td>\n",
       "      <td>4</td>\n",
       "      <td>manual(m5)</td>\n",
       "      <td>f</td>\n",
       "      <td>21</td>\n",
       "      <td>29</td>\n",
       "      <td>p</td>\n",
       "      <td>compact</td>\n",
       "      <td>25.0</td>\n",
       "    </tr>\n",
       "    <tr>\n",
       "      <td>3</td>\n",
       "      <td>audi</td>\n",
       "      <td>a4</td>\n",
       "      <td>2.0</td>\n",
       "      <td>2008</td>\n",
       "      <td>4</td>\n",
       "      <td>manual(m6)</td>\n",
       "      <td>f</td>\n",
       "      <td>20</td>\n",
       "      <td>31</td>\n",
       "      <td>p</td>\n",
       "      <td>compact</td>\n",
       "      <td>25.5</td>\n",
       "    </tr>\n",
       "    <tr>\n",
       "      <td>4</td>\n",
       "      <td>audi</td>\n",
       "      <td>a4</td>\n",
       "      <td>2.0</td>\n",
       "      <td>2008</td>\n",
       "      <td>4</td>\n",
       "      <td>auto(av)</td>\n",
       "      <td>f</td>\n",
       "      <td>21</td>\n",
       "      <td>30</td>\n",
       "      <td>p</td>\n",
       "      <td>compact</td>\n",
       "      <td>25.5</td>\n",
       "    </tr>\n",
       "    <tr>\n",
       "      <td>5</td>\n",
       "      <td>audi</td>\n",
       "      <td>a4</td>\n",
       "      <td>2.8</td>\n",
       "      <td>1999</td>\n",
       "      <td>6</td>\n",
       "      <td>auto(l5)</td>\n",
       "      <td>f</td>\n",
       "      <td>16</td>\n",
       "      <td>26</td>\n",
       "      <td>p</td>\n",
       "      <td>compact</td>\n",
       "      <td>21.0</td>\n",
       "    </tr>\n",
       "  </tbody>\n",
       "</table>\n",
       "</div>"
      ],
      "text/plain": [
       "  manufacturer model  displ  year  cyl       trans drv  cty  hwy fl    class  \\\n",
       "1         audi    a4    1.8  1999    4    auto(l5)   f   18   29  p  compact   \n",
       "2         audi    a4    1.8  1999    4  manual(m5)   f   21   29  p  compact   \n",
       "3         audi    a4    2.0  2008    4  manual(m6)   f   20   31  p  compact   \n",
       "4         audi    a4    2.0  2008    4    auto(av)   f   21   30  p  compact   \n",
       "5         audi    a4    2.8  1999    6    auto(l5)   f   16   26  p  compact   \n",
       "\n",
       "   average_mpg  \n",
       "1         23.5  \n",
       "2         25.0  \n",
       "3         25.5  \n",
       "4         25.5  \n",
       "5         21.0  "
      ]
     },
     "execution_count": 28,
     "metadata": {},
     "output_type": "execute_result"
    }
   ],
   "source": [
    "mpg['average_mpg'] = mpg[['cty', 'hwy']].mean(axis= 1)\n",
    "mpg.head()\n"
   ]
  },
  {
   "cell_type": "markdown",
   "metadata": {},
   "source": [
    "$H_0$: Cars from both model years have same mpg\\\n",
    "$H_a$: Cars from both model years have different mpg"
   ]
  },
  {
   "cell_type": "code",
   "execution_count": 55,
   "metadata": {},
   "outputs": [],
   "source": [
    "fe_2008 = mpg[mpg.year == 2008].average_mpg\n",
    "fe_1999 = mpg[mpg.year == 1999].average_mpg"
   ]
  },
  {
   "cell_type": "code",
   "execution_count": 56,
   "metadata": {},
   "outputs": [
    {
     "data": {
      "text/plain": [
       "Ttest_indResult(statistic=0.21960177245940962, pvalue=0.8263744040323578)"
      ]
     },
     "execution_count": 56,
     "metadata": {},
     "output_type": "execute_result"
    }
   ],
   "source": [
    "stats.ttest_ind(fe_1999, fe_2008)"
   ]
  },
  {
   "cell_type": "markdown",
   "metadata": {},
   "source": [
    "Since p value is >0.05, we fail to reject the null hypothesis meaning their fuel economy is no different"
   ]
  },
  {
   "cell_type": "markdown",
   "metadata": {},
   "source": [
    "# Are compact cars more fuel-efficient than the average car? "
   ]
  },
  {
   "cell_type": "markdown",
   "metadata": {},
   "source": [
    "$H_0$: compact cars have same fuel efficiency as a average car\\\n",
    "$H_a$: compact cars are more fuel efficient than average car"
   ]
  },
  {
   "cell_type": "code",
   "execution_count": 48,
   "metadata": {},
   "outputs": [],
   "source": [
    "mpg = mpg.rename(columns ={'class' : 'type'})"
   ]
  },
  {
   "cell_type": "code",
   "execution_count": 49,
   "metadata": {
    "scrolled": true
   },
   "outputs": [
    {
     "name": "stdout",
     "output_type": "stream",
     "text": [
      "t = 7.9\n",
      "p = 4.2e-10\n"
     ]
    }
   ],
   "source": [
    "x = mpg[mpg.type == 'compact'].average_mpg\n",
    "mu = mpg.average_mpg.mean()\n",
    "t_stat, p = stats.ttest_1samp(x, mu)\n",
    "\n",
    "print(f't = {t_stat:.3}')\n",
    "print(f'p = {p:.3}')"
   ]
  },
  {
   "cell_type": "markdown",
   "metadata": {},
   "source": [
    "Since p value is <0.05, we reject the null hypothesis meaning their fuel economy is not same"
   ]
  },
  {
   "cell_type": "markdown",
   "metadata": {},
   "source": [
    "# Do manual cars get better gas mileage than automatic cars?"
   ]
  },
  {
   "cell_type": "markdown",
   "metadata": {},
   "source": [
    "$H_0$: manual car get same mileage as automatic cars"
   ]
  },
  {
   "cell_type": "code",
   "execution_count": 50,
   "metadata": {},
   "outputs": [],
   "source": [
    "fe_auto = mpg[mpg.trans.str.contains('auto')].average_mpg\n",
    "fe_manual = mpg[mpg.trans.str.contains('manual')].average_mpg"
   ]
  },
  {
   "cell_type": "code",
   "execution_count": 51,
   "metadata": {},
   "outputs": [
    {
     "data": {
      "text/plain": [
       "Ttest_indResult(statistic=-4.593437735750014, pvalue=7.154374401145683e-06)"
      ]
     },
     "execution_count": 51,
     "metadata": {},
     "output_type": "execute_result"
    }
   ],
   "source": [
    "stats.ttest_ind(fe_auto, fe_manual)"
   ]
  },
  {
   "cell_type": "markdown",
   "metadata": {},
   "source": [
    "Since p value is <0.05, we reject the null hypothesis meaning  fuel economy for manual is better than automatic cars "
   ]
  },
  {
   "cell_type": "code",
   "execution_count": 72,
   "metadata": {},
   "outputs": [
    {
     "data": {
      "text/html": [
       "<div>\n",
       "<style scoped>\n",
       "    .dataframe tbody tr th:only-of-type {\n",
       "        vertical-align: middle;\n",
       "    }\n",
       "\n",
       "    .dataframe tbody tr th {\n",
       "        vertical-align: top;\n",
       "    }\n",
       "\n",
       "    .dataframe thead th {\n",
       "        text-align: right;\n",
       "    }\n",
       "</style>\n",
       "<table border=\"1\" class=\"dataframe\">\n",
       "  <thead>\n",
       "    <tr style=\"text-align: right;\">\n",
       "      <th></th>\n",
       "      <th>exam_score</th>\n",
       "      <th>hours_studied</th>\n",
       "      <th>study_strategy</th>\n",
       "      <th>handedness</th>\n",
       "      <th>coffee_consumed</th>\n",
       "      <th>hours_slept</th>\n",
       "    </tr>\n",
       "  </thead>\n",
       "  <tbody>\n",
       "    <tr>\n",
       "      <td>0</td>\n",
       "      <td>100.591011</td>\n",
       "      <td>9.126291</td>\n",
       "      <td>flashcards</td>\n",
       "      <td>left</td>\n",
       "      <td>0</td>\n",
       "      <td>11</td>\n",
       "    </tr>\n",
       "    <tr>\n",
       "      <td>1</td>\n",
       "      <td>95.637086</td>\n",
       "      <td>9.677438</td>\n",
       "      <td>flashcards</td>\n",
       "      <td>left</td>\n",
       "      <td>1</td>\n",
       "      <td>10</td>\n",
       "    </tr>\n",
       "    <tr>\n",
       "      <td>2</td>\n",
       "      <td>53.200296</td>\n",
       "      <td>4.550207</td>\n",
       "      <td>NaN</td>\n",
       "      <td>right</td>\n",
       "      <td>5</td>\n",
       "      <td>6</td>\n",
       "    </tr>\n",
       "    <tr>\n",
       "      <td>3</td>\n",
       "      <td>63.934268</td>\n",
       "      <td>6.487848</td>\n",
       "      <td>flashcards</td>\n",
       "      <td>right</td>\n",
       "      <td>4</td>\n",
       "      <td>7</td>\n",
       "    </tr>\n",
       "    <tr>\n",
       "      <td>4</td>\n",
       "      <td>51.186370</td>\n",
       "      <td>6.720959</td>\n",
       "      <td>flashcards</td>\n",
       "      <td>right</td>\n",
       "      <td>5</td>\n",
       "      <td>6</td>\n",
       "    </tr>\n",
       "    <tr>\n",
       "      <td>5</td>\n",
       "      <td>99.628593</td>\n",
       "      <td>5.887577</td>\n",
       "      <td>NaN</td>\n",
       "      <td>left</td>\n",
       "      <td>1</td>\n",
       "      <td>10</td>\n",
       "    </tr>\n",
       "    <tr>\n",
       "      <td>6</td>\n",
       "      <td>10.427946</td>\n",
       "      <td>1.275759</td>\n",
       "      <td>NaN</td>\n",
       "      <td>left</td>\n",
       "      <td>9</td>\n",
       "      <td>2</td>\n",
       "    </tr>\n",
       "    <tr>\n",
       "      <td>7</td>\n",
       "      <td>65.711877</td>\n",
       "      <td>4.660530</td>\n",
       "      <td>NaN</td>\n",
       "      <td>right</td>\n",
       "      <td>4</td>\n",
       "      <td>7</td>\n",
       "    </tr>\n",
       "    <tr>\n",
       "      <td>8</td>\n",
       "      <td>66.423415</td>\n",
       "      <td>10.040814</td>\n",
       "      <td>flashcards</td>\n",
       "      <td>right</td>\n",
       "      <td>4</td>\n",
       "      <td>7</td>\n",
       "    </tr>\n",
       "    <tr>\n",
       "      <td>9</td>\n",
       "      <td>0.000000</td>\n",
       "      <td>0.194810</td>\n",
       "      <td>NaN</td>\n",
       "      <td>left</td>\n",
       "      <td>10</td>\n",
       "      <td>1</td>\n",
       "    </tr>\n",
       "    <tr>\n",
       "      <td>10</td>\n",
       "      <td>73.164623</td>\n",
       "      <td>5.887551</td>\n",
       "      <td>NaN</td>\n",
       "      <td>right</td>\n",
       "      <td>3</td>\n",
       "      <td>8</td>\n",
       "    </tr>\n",
       "    <tr>\n",
       "      <td>11</td>\n",
       "      <td>103.623596</td>\n",
       "      <td>8.123731</td>\n",
       "      <td>flashcards</td>\n",
       "      <td>right</td>\n",
       "      <td>0</td>\n",
       "      <td>11</td>\n",
       "    </tr>\n",
       "    <tr>\n",
       "      <td>12</td>\n",
       "      <td>31.056751</td>\n",
       "      <td>5.097867</td>\n",
       "      <td>NaN</td>\n",
       "      <td>right</td>\n",
       "      <td>7</td>\n",
       "      <td>4</td>\n",
       "    </tr>\n",
       "    <tr>\n",
       "      <td>13</td>\n",
       "      <td>38.595674</td>\n",
       "      <td>5.931877</td>\n",
       "      <td>flashcards</td>\n",
       "      <td>right</td>\n",
       "      <td>7</td>\n",
       "      <td>4</td>\n",
       "    </tr>\n",
       "    <tr>\n",
       "      <td>14</td>\n",
       "      <td>39.708798</td>\n",
       "      <td>2.348290</td>\n",
       "      <td>NaN</td>\n",
       "      <td>left</td>\n",
       "      <td>7</td>\n",
       "      <td>4</td>\n",
       "    </tr>\n",
       "    <tr>\n",
       "      <td>15</td>\n",
       "      <td>32.352314</td>\n",
       "      <td>5.015984</td>\n",
       "      <td>NaN</td>\n",
       "      <td>left</td>\n",
       "      <td>7</td>\n",
       "      <td>4</td>\n",
       "    </tr>\n",
       "    <tr>\n",
       "      <td>16</td>\n",
       "      <td>91.209319</td>\n",
       "      <td>7.794935</td>\n",
       "      <td>flashcards</td>\n",
       "      <td>left</td>\n",
       "      <td>1</td>\n",
       "      <td>10</td>\n",
       "    </tr>\n",
       "    <tr>\n",
       "      <td>17</td>\n",
       "      <td>68.572847</td>\n",
       "      <td>8.204969</td>\n",
       "      <td>flashcards</td>\n",
       "      <td>right</td>\n",
       "      <td>4</td>\n",
       "      <td>7</td>\n",
       "    </tr>\n",
       "    <tr>\n",
       "      <td>18</td>\n",
       "      <td>67.574374</td>\n",
       "      <td>8.478692</td>\n",
       "      <td>flashcards</td>\n",
       "      <td>left</td>\n",
       "      <td>4</td>\n",
       "      <td>7</td>\n",
       "    </tr>\n",
       "    <tr>\n",
       "      <td>19</td>\n",
       "      <td>71.993313</td>\n",
       "      <td>8.500183</td>\n",
       "      <td>flashcards</td>\n",
       "      <td>left</td>\n",
       "      <td>3</td>\n",
       "      <td>8</td>\n",
       "    </tr>\n",
       "    <tr>\n",
       "      <td>20</td>\n",
       "      <td>40.235324</td>\n",
       "      <td>4.280227</td>\n",
       "      <td>flashcards</td>\n",
       "      <td>left</td>\n",
       "      <td>6</td>\n",
       "      <td>5</td>\n",
       "    </tr>\n",
       "    <tr>\n",
       "      <td>21</td>\n",
       "      <td>35.743657</td>\n",
       "      <td>3.197463</td>\n",
       "      <td>NaN</td>\n",
       "      <td>right</td>\n",
       "      <td>7</td>\n",
       "      <td>4</td>\n",
       "    </tr>\n",
       "    <tr>\n",
       "      <td>22</td>\n",
       "      <td>60.637961</td>\n",
       "      <td>4.591031</td>\n",
       "      <td>NaN</td>\n",
       "      <td>right</td>\n",
       "      <td>4</td>\n",
       "      <td>7</td>\n",
       "    </tr>\n",
       "    <tr>\n",
       "      <td>23</td>\n",
       "      <td>33.688874</td>\n",
       "      <td>3.967320</td>\n",
       "      <td>NaN</td>\n",
       "      <td>right</td>\n",
       "      <td>7</td>\n",
       "      <td>4</td>\n",
       "    </tr>\n",
       "    <tr>\n",
       "      <td>24</td>\n",
       "      <td>51.464085</td>\n",
       "      <td>6.154276</td>\n",
       "      <td>NaN</td>\n",
       "      <td>left</td>\n",
       "      <td>5</td>\n",
       "      <td>6</td>\n",
       "    </tr>\n",
       "    <tr>\n",
       "      <td>25</td>\n",
       "      <td>48.317365</td>\n",
       "      <td>3.613879</td>\n",
       "      <td>NaN</td>\n",
       "      <td>left</td>\n",
       "      <td>6</td>\n",
       "      <td>5</td>\n",
       "    </tr>\n",
       "    <tr>\n",
       "      <td>26</td>\n",
       "      <td>57.042348</td>\n",
       "      <td>5.941447</td>\n",
       "      <td>flashcards</td>\n",
       "      <td>right</td>\n",
       "      <td>5</td>\n",
       "      <td>6</td>\n",
       "    </tr>\n",
       "    <tr>\n",
       "      <td>27</td>\n",
       "      <td>22.400132</td>\n",
       "      <td>2.656407</td>\n",
       "      <td>NaN</td>\n",
       "      <td>left</td>\n",
       "      <td>8</td>\n",
       "      <td>3</td>\n",
       "    </tr>\n",
       "    <tr>\n",
       "      <td>28</td>\n",
       "      <td>100.448921</td>\n",
       "      <td>7.970301</td>\n",
       "      <td>flashcards</td>\n",
       "      <td>right</td>\n",
       "      <td>0</td>\n",
       "      <td>11</td>\n",
       "    </tr>\n",
       "    <tr>\n",
       "      <td>29</td>\n",
       "      <td>71.537602</td>\n",
       "      <td>8.675529</td>\n",
       "      <td>flashcards</td>\n",
       "      <td>right</td>\n",
       "      <td>3</td>\n",
       "      <td>8</td>\n",
       "    </tr>\n",
       "    <tr>\n",
       "      <td>30</td>\n",
       "      <td>59.098398</td>\n",
       "      <td>5.773753</td>\n",
       "      <td>flashcards</td>\n",
       "      <td>right</td>\n",
       "      <td>5</td>\n",
       "      <td>6</td>\n",
       "    </tr>\n",
       "    <tr>\n",
       "      <td>31</td>\n",
       "      <td>7.350580</td>\n",
       "      <td>1.801087</td>\n",
       "      <td>NaN</td>\n",
       "      <td>right</td>\n",
       "      <td>10</td>\n",
       "      <td>1</td>\n",
       "    </tr>\n",
       "    <tr>\n",
       "      <td>32</td>\n",
       "      <td>28.300445</td>\n",
       "      <td>3.749855</td>\n",
       "      <td>NaN</td>\n",
       "      <td>right</td>\n",
       "      <td>8</td>\n",
       "      <td>3</td>\n",
       "    </tr>\n",
       "    <tr>\n",
       "      <td>33</td>\n",
       "      <td>0.000000</td>\n",
       "      <td>-1.828194</td>\n",
       "      <td>NaN</td>\n",
       "      <td>right</td>\n",
       "      <td>10</td>\n",
       "      <td>1</td>\n",
       "    </tr>\n",
       "    <tr>\n",
       "      <td>34</td>\n",
       "      <td>1.697189</td>\n",
       "      <td>0.802329</td>\n",
       "      <td>NaN</td>\n",
       "      <td>right</td>\n",
       "      <td>10</td>\n",
       "      <td>1</td>\n",
       "    </tr>\n",
       "    <tr>\n",
       "      <td>35</td>\n",
       "      <td>86.743254</td>\n",
       "      <td>4.461289</td>\n",
       "      <td>flashcards</td>\n",
       "      <td>left</td>\n",
       "      <td>2</td>\n",
       "      <td>9</td>\n",
       "    </tr>\n",
       "    <tr>\n",
       "      <td>36</td>\n",
       "      <td>73.058047</td>\n",
       "      <td>6.604429</td>\n",
       "      <td>flashcards</td>\n",
       "      <td>left</td>\n",
       "      <td>3</td>\n",
       "      <td>8</td>\n",
       "    </tr>\n",
       "    <tr>\n",
       "      <td>37</td>\n",
       "      <td>78.890913</td>\n",
       "      <td>8.887383</td>\n",
       "      <td>flashcards</td>\n",
       "      <td>right</td>\n",
       "      <td>3</td>\n",
       "      <td>8</td>\n",
       "    </tr>\n",
       "    <tr>\n",
       "      <td>38</td>\n",
       "      <td>72.472284</td>\n",
       "      <td>7.090633</td>\n",
       "      <td>flashcards</td>\n",
       "      <td>left</td>\n",
       "      <td>3</td>\n",
       "      <td>8</td>\n",
       "    </tr>\n",
       "    <tr>\n",
       "      <td>39</td>\n",
       "      <td>57.614771</td>\n",
       "      <td>4.301864</td>\n",
       "      <td>NaN</td>\n",
       "      <td>right</td>\n",
       "      <td>5</td>\n",
       "      <td>6</td>\n",
       "    </tr>\n",
       "  </tbody>\n",
       "</table>\n",
       "</div>"
      ],
      "text/plain": [
       "    exam_score  hours_studied study_strategy handedness  coffee_consumed  \\\n",
       "0   100.591011       9.126291     flashcards       left                0   \n",
       "1    95.637086       9.677438     flashcards       left                1   \n",
       "2    53.200296       4.550207            NaN      right                5   \n",
       "3    63.934268       6.487848     flashcards      right                4   \n",
       "4    51.186370       6.720959     flashcards      right                5   \n",
       "5    99.628593       5.887577            NaN       left                1   \n",
       "6    10.427946       1.275759            NaN       left                9   \n",
       "7    65.711877       4.660530            NaN      right                4   \n",
       "8    66.423415      10.040814     flashcards      right                4   \n",
       "9     0.000000       0.194810            NaN       left               10   \n",
       "10   73.164623       5.887551            NaN      right                3   \n",
       "11  103.623596       8.123731     flashcards      right                0   \n",
       "12   31.056751       5.097867            NaN      right                7   \n",
       "13   38.595674       5.931877     flashcards      right                7   \n",
       "14   39.708798       2.348290            NaN       left                7   \n",
       "15   32.352314       5.015984            NaN       left                7   \n",
       "16   91.209319       7.794935     flashcards       left                1   \n",
       "17   68.572847       8.204969     flashcards      right                4   \n",
       "18   67.574374       8.478692     flashcards       left                4   \n",
       "19   71.993313       8.500183     flashcards       left                3   \n",
       "20   40.235324       4.280227     flashcards       left                6   \n",
       "21   35.743657       3.197463            NaN      right                7   \n",
       "22   60.637961       4.591031            NaN      right                4   \n",
       "23   33.688874       3.967320            NaN      right                7   \n",
       "24   51.464085       6.154276            NaN       left                5   \n",
       "25   48.317365       3.613879            NaN       left                6   \n",
       "26   57.042348       5.941447     flashcards      right                5   \n",
       "27   22.400132       2.656407            NaN       left                8   \n",
       "28  100.448921       7.970301     flashcards      right                0   \n",
       "29   71.537602       8.675529     flashcards      right                3   \n",
       "30   59.098398       5.773753     flashcards      right                5   \n",
       "31    7.350580       1.801087            NaN      right               10   \n",
       "32   28.300445       3.749855            NaN      right                8   \n",
       "33    0.000000      -1.828194            NaN      right               10   \n",
       "34    1.697189       0.802329            NaN      right               10   \n",
       "35   86.743254       4.461289     flashcards       left                2   \n",
       "36   73.058047       6.604429     flashcards       left                3   \n",
       "37   78.890913       8.887383     flashcards      right                3   \n",
       "38   72.472284       7.090633     flashcards       left                3   \n",
       "39   57.614771       4.301864            NaN      right                5   \n",
       "\n",
       "    hours_slept  \n",
       "0            11  \n",
       "1            10  \n",
       "2             6  \n",
       "3             7  \n",
       "4             6  \n",
       "5            10  \n",
       "6             2  \n",
       "7             7  \n",
       "8             7  \n",
       "9             1  \n",
       "10            8  \n",
       "11           11  \n",
       "12            4  \n",
       "13            4  \n",
       "14            4  \n",
       "15            4  \n",
       "16           10  \n",
       "17            7  \n",
       "18            7  \n",
       "19            8  \n",
       "20            5  \n",
       "21            4  \n",
       "22            7  \n",
       "23            4  \n",
       "24            6  \n",
       "25            5  \n",
       "26            6  \n",
       "27            3  \n",
       "28           11  \n",
       "29            8  \n",
       "30            6  \n",
       "31            1  \n",
       "32            3  \n",
       "33            1  \n",
       "34            1  \n",
       "35            9  \n",
       "36            8  \n",
       "37            8  \n",
       "38            8  \n",
       "39            6  "
      ]
     },
     "execution_count": 72,
     "metadata": {},
     "output_type": "execute_result"
    }
   ],
   "source": [
    "df = pd.read_csv('exam_scores.csv')\n",
    "df.head(1000)"
   ]
  },
  {
   "cell_type": "markdown",
   "metadata": {},
   "source": [
    "Compare exam scores for folks with high coffee consumption vs low coffee consumption"
   ]
  },
  {
   "cell_type": "code",
   "execution_count": 79,
   "metadata": {},
   "outputs": [
    {
     "name": "stderr",
     "output_type": "stream",
     "text": [
      "/usr/local/anaconda3/lib/python3.7/site-packages/ipykernel_launcher.py:1: UserWarning: Boolean Series key will be reindexed to match DataFrame index.\n",
      "  \"\"\"Entry point for launching an IPython kernel.\n"
     ]
    }
   ],
   "source": [
    "high_c_score = df[df.coffee_consumed > 5][df.exam_score > 0].exam_score"
   ]
  },
  {
   "cell_type": "code",
   "execution_count": 80,
   "metadata": {},
   "outputs": [
    {
     "name": "stderr",
     "output_type": "stream",
     "text": [
      "/usr/local/anaconda3/lib/python3.7/site-packages/ipykernel_launcher.py:1: UserWarning: Boolean Series key will be reindexed to match DataFrame index.\n",
      "  \"\"\"Entry point for launching an IPython kernel.\n"
     ]
    }
   ],
   "source": [
    "low_c_score = df[df.coffee_consumed < 5][df.exam_score > 0].exam_score"
   ]
  },
  {
   "cell_type": "code",
   "execution_count": 81,
   "metadata": {},
   "outputs": [
    {
     "data": {
      "text/plain": [
       "Ttest_indResult(statistic=9.894476880809066, pvalue=5.854112077333943e-11)"
      ]
     },
     "execution_count": 81,
     "metadata": {},
     "output_type": "execute_result"
    }
   ],
   "source": [
    "stats.ttest_ind(low_c_score, high_c_score)"
   ]
  },
  {
   "cell_type": "code",
   "execution_count": 82,
   "metadata": {},
   "outputs": [
    {
     "data": {
      "text/plain": [
       "28.45192688887976"
      ]
     },
     "execution_count": 82,
     "metadata": {},
     "output_type": "execute_result"
    }
   ],
   "source": [
    "high_c_score.mean()"
   ]
  },
  {
   "cell_type": "code",
   "execution_count": 83,
   "metadata": {},
   "outputs": [
    {
     "data": {
      "text/plain": [
       "79.57122642510747"
      ]
     },
     "execution_count": 83,
     "metadata": {},
     "output_type": "execute_result"
    }
   ],
   "source": [
    "low_c_score.mean()"
   ]
  },
  {
   "cell_type": "code",
   "execution_count": null,
   "metadata": {},
   "outputs": [],
   "source": []
  }
 ],
 "metadata": {
  "kernelspec": {
   "display_name": "Python 3",
   "language": "python",
   "name": "python3"
  },
  "language_info": {
   "codemirror_mode": {
    "name": "ipython",
    "version": 3
   },
   "file_extension": ".py",
   "mimetype": "text/x-python",
   "name": "python",
   "nbconvert_exporter": "python",
   "pygments_lexer": "ipython3",
   "version": "3.7.4"
  }
 },
 "nbformat": 4,
 "nbformat_minor": 2
}
